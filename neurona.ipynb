{
 "cells": [
  {
   "cell_type": "code",
   "execution_count": 1,
   "id": "68bfdd18-e3a9-4a76-afbb-b5bb1dd35fec",
   "metadata": {},
   "outputs": [
    {
     "name": "stdin",
     "output_type": "stream",
     "text": [
      "Enter the size of the list (conditions of particular event):  20\n"
     ]
    },
    {
     "name": "stdout",
     "output_type": "stream",
     "text": [
      "[[-8, -14, 1, 11, -20, 20, -13, -11, 8, 16, 1, 2, -19, -21, 20, 2, -5, -3, -2, -11], [-3, -8, -11, 20, 15, 16, 7, 21, 5, -15, -13, -21, 9, 21, -9, -12, -20, 14, -12, 21], [-3, 16, 13, 8, 6, -16, -13, 6, 5, -14, 6, -20, 19, 12, -10, 13, -20, 14, -19, 17], [17, 21, -17, 2, -8, -18, 21, -4, 2, -5, -1, -19, 10, -21, -3, 7, 18, -19, -21, 4], [2, 21, -9, 16, 9, -5, 20, -5, -15, 15, -21, -11, 8, -14, 5, 14, 10, -16, -13, -13], [9, -8, 17, 4, -8, -3, -15, -11, 1, 3, -4, 4, -8, -15, -6, -19, -20, 17, -14, -3], [-13, 0, 6, -14, 19, -12, 8, -15, 2, 3, 21, -18, 19, -15, -17, -2, -5, -13, -19, -5], [-18, -5, -1, 14, -2, -6, -9, -16, 18, -7, 21, 6, 3, 11, 21, 13, -8, 9, -16, -9], [-9, 5, -8, -2, 12, 19, -8, 19, -13, 7, -13, -15, -19, -12, -18, -9, 19, -7, 20, -6], [-11, -8, -10, -13, 1, 17, 9, -9, -6, -1, -6, -10, 10, 4, 1, 10, -4, 21, 0, -9]]\n",
      "[False False  True False False False False False False False]\n"
     ]
    }
   ],
   "source": [
    "# Pablo Nicolas Ramos\n",
    "# linkedin: https://ar.linkedin.com/in/pablonicolasr\n",
    "# McCulloch and Pitts neurons\n",
    "\n",
    "import numpy as np\n",
    "import pandas as pd\n",
    "import random\n",
    "import os\n",
    "\n",
    "\n",
    "# The screen is cleaned\n",
    "class ClearScreen():\n",
    "    \n",
    "    def __init__(self):\n",
    "    \n",
    "        self.clear = os.system('cls' if os.name=='nt' else 'clear')\n",
    "\n",
    "\n",
    "class MPNeuron:\n",
    "    \n",
    "    def __init__(self):\n",
    "        self.threshold = None\n",
    "        \n",
    "    def model(self, x):\n",
    "        # input: [1, 0, 1, 0] [x1, x2, .., xn]\n",
    "        z = sum(x)\n",
    "        return (z >= self.threshold)\n",
    "        \n",
    "    def continue_to_binary(self, x):\n",
    "        # input: [[1, 0, 1, 0], [1, 0, 1, 1]]\n",
    "        x = pd.cut(x, bins=2, labels=[0, 1])\n",
    "        return x        \n",
    "    \n",
    "    def predict(self, X):\n",
    "        # input: [[1, 0, 1, 0], [1, 0, 1, 1]]\n",
    "        Y = []\n",
    "        for x in X:\n",
    "            result = self.model(self.continue_to_binary(x))\n",
    "            Y.append(result)\n",
    "        return np.array(Y)\n",
    "\n",
    "\n",
    "if __name__ == \"__main__\":\n",
    "    # Size of the principal list (ten events)\n",
    "    N = 10\n",
    "    band = False\n",
    "    while not band:\n",
    "        # Define the size of the list    \n",
    "        try:\n",
    "            size_of_list = int(input(\"Enter the size of the list (conditions of particular event): \"))\n",
    "            band = True\n",
    "        except Exception as e:\n",
    "            print(str(e)+\"\\n\")\n",
    "            print(\"You must enter an integer\\n\")\n",
    "            input(\"Press any key to continue...\")\n",
    "            ClearScreen().clear\n",
    "    \n",
    "    # McCullochPitts's neuron is instantiated\n",
    "    mp_neuron = MPNeuron() \n",
    "    \n",
    "    # If more than half of the conditions are met, True is returned\n",
    "    mp_neuron.threshold = (size_of_list // 2) + 1 \n",
    "    \n",
    "    # Generate the conditions for each event\n",
    "    list_of_lists = [[random.randint(-21, 21) for q in range(size_of_list)] for z in range(N)]\n",
    "    \n",
    "    print(list_of_lists)\n",
    "    print(mp_neuron.predict(list_of_lists))"
   ]
  },
  {
   "cell_type": "code",
   "execution_count": null,
   "id": "f80ab0e4-87eb-45a8-ab8a-3b039de34786",
   "metadata": {},
   "outputs": [],
   "source": []
  }
 ],
 "metadata": {
  "kernelspec": {
   "display_name": "Python 3 (ipykernel)",
   "language": "python",
   "name": "python3"
  },
  "language_info": {
   "codemirror_mode": {
    "name": "ipython",
    "version": 3
   },
   "file_extension": ".py",
   "mimetype": "text/x-python",
   "name": "python",
   "nbconvert_exporter": "python",
   "pygments_lexer": "ipython3",
   "version": "3.9.7"
  }
 },
 "nbformat": 4,
 "nbformat_minor": 5
}
